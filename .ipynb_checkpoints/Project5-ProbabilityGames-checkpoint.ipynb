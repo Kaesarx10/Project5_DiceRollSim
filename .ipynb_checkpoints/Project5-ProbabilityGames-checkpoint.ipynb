{
 "cells": [
  {
   "cell_type": "code",
   "execution_count": 122,
   "id": "b1dbba34",
   "metadata": {},
   "outputs": [],
   "source": [
    "import secrets\n",
    "import random\n",
    "from fractions import Fraction\n",
    "from collections import Counter"
   ]
  },
  {
   "cell_type": "code",
   "execution_count": 143,
   "id": "f5fcc047",
   "metadata": {},
   "outputs": [],
   "source": [
    "from matplotlib import pyplot as plt"
   ]
  },
  {
   "cell_type": "code",
   "execution_count": 145,
   "id": "abfc09cf",
   "metadata": {},
   "outputs": [],
   "source": [
    "import pandas as pd"
   ]
  },
  {
   "cell_type": "code",
   "execution_count": 133,
   "id": "6049cefd",
   "metadata": {},
   "outputs": [],
   "source": [
    "sixd = [*range(1,7)]\n",
    "twod = [*range(2)]"
   ]
  },
  {
   "cell_type": "code",
   "execution_count": 127,
   "id": "2110eb45",
   "metadata": {},
   "outputs": [],
   "source": [
    "Roll_list = []"
   ]
  },
  {
   "cell_type": "code",
   "execution_count": 59,
   "id": "2c3362af",
   "metadata": {},
   "outputs": [
    {
     "data": {
      "text/plain": [
       "[1, 2, 3, 4, 5, 6]"
      ]
     },
     "execution_count": 59,
     "metadata": {},
     "output_type": "execute_result"
    }
   ],
   "source": [
    "sixd"
   ]
  },
  {
   "cell_type": "code",
   "execution_count": 60,
   "id": "44d51fc8",
   "metadata": {},
   "outputs": [
    {
     "data": {
      "text/plain": [
       "4"
      ]
     },
     "execution_count": 60,
     "metadata": {},
     "output_type": "execute_result"
    }
   ],
   "source": [
    "secrets.choice(sixd)"
   ]
  },
  {
   "cell_type": "code",
   "execution_count": 61,
   "id": "bcc48a4a",
   "metadata": {},
   "outputs": [],
   "source": [
    "def sRoll_dice(Dice = list) -> int:\n",
    "    r = secrets.choice(Dice)\n",
    "    Roll_list.append(r)\n",
    "    return r"
   ]
  },
  {
   "cell_type": "code",
   "execution_count": 119,
   "id": "70967a27",
   "metadata": {},
   "outputs": [
    {
     "data": {
      "text/plain": [
       "4"
      ]
     },
     "execution_count": 119,
     "metadata": {},
     "output_type": "execute_result"
    }
   ],
   "source": [
    "sRoll_dice(sixd)"
   ]
  },
  {
   "cell_type": "code",
   "execution_count": 129,
   "id": "7a2c5a09",
   "metadata": {},
   "outputs": [],
   "source": [
    "for i in range(101):\n",
    "    sRoll_dice(sixd)"
   ]
  },
  {
   "cell_type": "code",
   "execution_count": 158,
   "id": "1ef01c1a",
   "metadata": {},
   "outputs": [
    {
     "data": {
      "text/plain": [
       "[1,\n",
       " 1,\n",
       " 1,\n",
       " 1,\n",
       " 1,\n",
       " 1,\n",
       " 1,\n",
       " 1,\n",
       " 1,\n",
       " 1,\n",
       " 1,\n",
       " 1,\n",
       " 2,\n",
       " 2,\n",
       " 2,\n",
       " 2,\n",
       " 2,\n",
       " 2,\n",
       " 2,\n",
       " 2,\n",
       " 2,\n",
       " 2,\n",
       " 2,\n",
       " 2,\n",
       " 2,\n",
       " 2,\n",
       " 2,\n",
       " 2,\n",
       " 3,\n",
       " 3,\n",
       " 3,\n",
       " 3,\n",
       " 3,\n",
       " 3,\n",
       " 3,\n",
       " 3,\n",
       " 3,\n",
       " 3,\n",
       " 3,\n",
       " 3,\n",
       " 3,\n",
       " 3,\n",
       " 3,\n",
       " 4,\n",
       " 4,\n",
       " 4,\n",
       " 4,\n",
       " 4,\n",
       " 4,\n",
       " 4,\n",
       " 4,\n",
       " 4,\n",
       " 4,\n",
       " 4,\n",
       " 4,\n",
       " 4,\n",
       " 4,\n",
       " 4,\n",
       " 4,\n",
       " 4,\n",
       " 4,\n",
       " 4,\n",
       " 4,\n",
       " 4,\n",
       " 4,\n",
       " 4,\n",
       " 4,\n",
       " 4,\n",
       " 5,\n",
       " 5,\n",
       " 5,\n",
       " 5,\n",
       " 5,\n",
       " 5,\n",
       " 5,\n",
       " 5,\n",
       " 5,\n",
       " 5,\n",
       " 5,\n",
       " 5,\n",
       " 5,\n",
       " 5,\n",
       " 5,\n",
       " 5,\n",
       " 5,\n",
       " 5,\n",
       " 6,\n",
       " 6,\n",
       " 6,\n",
       " 6,\n",
       " 6,\n",
       " 6,\n",
       " 6,\n",
       " 6,\n",
       " 6,\n",
       " 6,\n",
       " 6,\n",
       " 6,\n",
       " 6,\n",
       " 6,\n",
       " 6]"
      ]
     },
     "execution_count": 158,
     "metadata": {},
     "output_type": "execute_result"
    }
   ],
   "source": [
    "Roll_list.sort()\n",
    "Roll_list"
   ]
  },
  {
   "cell_type": "code",
   "execution_count": 159,
   "id": "c9216d7c",
   "metadata": {},
   "outputs": [],
   "source": [
    "def Probability(Dice):\n",
    "    l = len(Dice)\n",
    "    p = f'1/{l}'\n",
    "    return p"
   ]
  },
  {
   "cell_type": "code",
   "execution_count": 160,
   "id": "6e4ecf45",
   "metadata": {},
   "outputs": [
    {
     "data": {
      "text/plain": [
       "'1/6'"
      ]
     },
     "execution_count": 160,
     "metadata": {},
     "output_type": "execute_result"
    }
   ],
   "source": [
    "Probability(sixd)"
   ]
  },
  {
   "cell_type": "code",
   "execution_count": 161,
   "id": "908e5153",
   "metadata": {},
   "outputs": [],
   "source": [
    "def Probability2(Dice):\n",
    "    p = 1/len(Dice)\n",
    "    return p*100"
   ]
  },
  {
   "cell_type": "code",
   "execution_count": 162,
   "id": "1047cdc9",
   "metadata": {},
   "outputs": [
    {
     "data": {
      "text/plain": [
       "16.666666666666664"
      ]
     },
     "execution_count": 162,
     "metadata": {},
     "output_type": "execute_result"
    }
   ],
   "source": [
    "Probability2(sixd)"
   ]
  },
  {
   "cell_type": "code",
   "execution_count": 163,
   "id": "5355ce4d",
   "metadata": {},
   "outputs": [
    {
     "data": {
      "text/plain": [
       "'6004799503160661/36028797018963968'"
      ]
     },
     "execution_count": 163,
     "metadata": {},
     "output_type": "execute_result"
    }
   ],
   "source": [
    "str(Fraction(1/6))"
   ]
  },
  {
   "cell_type": "code",
   "execution_count": 164,
   "id": "790f7bfd",
   "metadata": {},
   "outputs": [
    {
     "data": {
      "text/plain": [
       "{1, 2, 3, 4, 5, 6}"
      ]
     },
     "execution_count": 164,
     "metadata": {},
     "output_type": "execute_result"
    }
   ],
   "source": [
    "set(Roll_list)"
   ]
  },
  {
   "cell_type": "code",
   "execution_count": 165,
   "id": "c0da9536",
   "metadata": {},
   "outputs": [
    {
     "data": {
      "text/plain": [
       "{1: 12, 2: 16, 3: 15, 4: 25, 5: 18, 6: 15}"
      ]
     },
     "execution_count": 165,
     "metadata": {},
     "output_type": "execute_result"
    }
   ],
   "source": [
    "c = Counter(Roll_list)\n",
    "c = dict(c)\n",
    "c"
   ]
  },
  {
   "cell_type": "code",
   "execution_count": 166,
   "id": "93c87e58",
   "metadata": {},
   "outputs": [
    {
     "data": {
      "text/plain": [
       "<BarContainer object of 6 artists>"
      ]
     },
     "execution_count": 166,
     "metadata": {},
     "output_type": "execute_result"
    },
    {
     "data": {
      "image/png": "[encoded data removed]",
      "text/plain": [
       "<Figure size 432x288 with 1 Axes>"
      ]
     },
     "metadata": {
      "needs_background": "light"
     },
     "output_type": "display_data"
    }
   ],
   "source": [
    "plt.bar(c.keys(), c.values())"
   ]
  },
  {
   "cell_type": "code",
   "execution_count": 167,
   "id": "7ef94139",
   "metadata": {},
   "outputs": [
    {
     "data": {
      "text/plain": [
       "<AxesSubplot:>"
      ]
     },
     "execution_count": 167,
     "metadata": {},
     "output_type": "execute_result"
    },
    {
     "data": {
      "image/png": "[encoded data removed]",
      "text/plain": [
       "<Figure size 432x288 with 1 Axes>"
      ]
     },
     "metadata": {
      "needs_background": "light"
     },
     "output_type": "display_data"
    }
   ],
   "source": [
    "pd.DataFrame(c, index=[c.keys()]).plot(kind='bar')"
   ]
  },
  {
   "cell_type": "code",
   "execution_count": null,
   "id": "6389828b",
   "metadata": {},
   "outputs": [],
   "source": []
  }
 ],
 "metadata": {
  "kernelspec": {
   "display_name": "Python 3",
   "language": "python",
   "name": "python3"
  },
  "language_info": {
   "codemirror_mode": {
    "name": "ipython",
    "version": 3
   },
   "file_extension": ".py",
   "mimetype": "text/x-python",
   "name": "python",
   "nbconvert_exporter": "python",
   "pygments_lexer": "ipython3",
   "version": "3.8.5"
  }
 },
 "nbformat": 4,
 "nbformat_minor": 5
}
