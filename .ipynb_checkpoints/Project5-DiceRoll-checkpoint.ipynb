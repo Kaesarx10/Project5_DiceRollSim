{
 "cells": [
  {
   "cell_type": "code",
   "execution_count": 1,
   "id": "ad9eea17",
   "metadata": {},
   "outputs": [],
   "source": [
    "import secrets\n",
    "import random"
   ]
  },
  {
   "cell_type": "code",
   "execution_count": 23,
   "id": "20f96c77",
   "metadata": {},
   "outputs": [],
   "source": [
    "sixd = [*range(1,6)]"
   ]
  },
  {
   "cell_type": "code",
   "execution_count": 24,
   "id": "3a064b6c",
   "metadata": {},
   "outputs": [
    {
     "data": {
      "text/plain": [
       "[1, 2, 3, 4, 5]"
      ]
     },
     "execution_count": 24,
     "metadata": {},
     "output_type": "execute_result"
    }
   ],
   "source": [
    "sixd"
   ]
  },
  {
   "cell_type": "code",
   "execution_count": 26,
   "id": "183bc1fc",
   "metadata": {},
   "outputs": [
    {
     "data": {
      "text/plain": [
       "1"
      ]
     },
     "execution_count": 26,
     "metadata": {},
     "output_type": "execute_result"
    }
   ],
   "source": [
    "secrets.choice(sixd)"
   ]
  },
  {
   "cell_type": "code",
   "execution_count": 27,
   "id": "bf4f33ae",
   "metadata": {},
   "outputs": [],
   "source": [
    "def sRoll_dice(Dice = list) -> int:\n",
    "    return secrets.choice(Dice)"
   ]
  },
  {
   "cell_type": "code",
   "execution_count": 28,
   "id": "59ca70f3",
   "metadata": {},
   "outputs": [
    {
     "data": {
      "text/plain": [
       "5"
      ]
     },
     "execution_count": 28,
     "metadata": {},
     "output_type": "execute_result"
    }
   ],
   "source": [
    "sRoll_dice(sixd)"
   ]
  },
  {
   "cell_type": "code",
   "execution_count": null,
   "id": "6b77ca2a",
   "metadata": {},
   "outputs": [],
   "source": []
  }
 ],
 "metadata": {
  "kernelspec": {
   "display_name": "Python 3",
   "language": "python",
   "name": "python3"
  },
  "language_info": {
   "codemirror_mode": {
    "name": "ipython",
    "version": 3
   },
   "file_extension": ".py",
   "mimetype": "text/x-python",
   "name": "python",
   "nbconvert_exporter": "python",
   "pygments_lexer": "ipython3",
   "version": "3.8.5"
  }
 },
 "nbformat": 4,
 "nbformat_minor": 5
}
