{
 "cells": [
  {
   "cell_type": "code",
   "execution_count": 87,
   "id": "5e846cd4",
   "metadata": {},
   "outputs": [],
   "source": [
    "import secrets\n",
    "import random\n",
    "from fractions import Fraction"
   ]
  },
  {
   "cell_type": "code",
   "execution_count": 57,
   "id": "554812ef",
   "metadata": {},
   "outputs": [],
   "source": [
    "sixd = [*range(1,7)]"
   ]
  },
  {
   "cell_type": "code",
   "execution_count": 58,
   "id": "612c2271",
   "metadata": {},
   "outputs": [],
   "source": [
    "Roll_list = []"
   ]
  },
  {
   "cell_type": "code",
   "execution_count": 59,
   "id": "80b38a21",
   "metadata": {},
   "outputs": [
    {
     "data": {
      "text/plain": [
       "[1, 2, 3, 4, 5, 6]"
      ]
     },
     "execution_count": 59,
     "metadata": {},
     "output_type": "execute_result"
    }
   ],
   "source": [
    "sixd"
   ]
  },
  {
   "cell_type": "code",
   "execution_count": 60,
   "id": "4f617e3a",
   "metadata": {},
   "outputs": [
    {
     "data": {
      "text/plain": [
       "4"
      ]
     },
     "execution_count": 60,
     "metadata": {},
     "output_type": "execute_result"
    }
   ],
   "source": [
    "secrets.choice(sixd)"
   ]
  },
  {
   "cell_type": "code",
   "execution_count": 61,
   "id": "58a9497e",
   "metadata": {},
   "outputs": [],
   "source": [
    "def sRoll_dice(Dice = list) -> int:\n",
    "    r = secrets.choice(Dice)\n",
    "    Roll_list.append(r)\n",
    "    return r"
   ]
  },
  {
   "cell_type": "code",
   "execution_count": 74,
   "id": "848a9c75",
   "metadata": {},
   "outputs": [
    {
     "data": {
      "text/plain": [
       "4"
      ]
     },
     "execution_count": 74,
     "metadata": {},
     "output_type": "execute_result"
    }
   ],
   "source": [
    "sRoll_dice(sixd)"
   ]
  },
  {
   "cell_type": "code",
   "execution_count": 75,
   "id": "7b676a58",
   "metadata": {},
   "outputs": [
    {
     "data": {
      "text/plain": [
       "[4, 6, 3, 5, 2, 2, 4]"
      ]
     },
     "execution_count": 75,
     "metadata": {},
     "output_type": "execute_result"
    }
   ],
   "source": [
    "Roll_list"
   ]
  },
  {
   "cell_type": "code",
   "execution_count": 106,
   "id": "3061352b",
   "metadata": {},
   "outputs": [],
   "source": [
    "def Probability(Dice):\n",
    "    l = len(Dice)\n",
    "    p = f'1/{l}'\n",
    "    return p"
   ]
  },
  {
   "cell_type": "code",
   "execution_count": 107,
   "id": "795e6bb4",
   "metadata": {},
   "outputs": [
    {
     "data": {
      "text/plain": [
       "'1/6'"
      ]
     },
     "execution_count": 107,
     "metadata": {},
     "output_type": "execute_result"
    }
   ],
   "source": [
    "Probability(sixd)"
   ]
  },
  {
   "cell_type": "code",
   "execution_count": 108,
   "id": "32bd52c5",
   "metadata": {},
   "outputs": [],
   "source": [
    "def Probability2(Dice):\n",
    "    p = 1/len(Dice)\n",
    "    return str(Fraction(p))"
   ]
  },
  {
   "cell_type": "code",
   "execution_count": 109,
   "id": "3f350e72",
   "metadata": {},
   "outputs": [
    {
     "data": {
      "text/plain": [
       "'6004799503160661/36028797018963968'"
      ]
     },
     "execution_count": 109,
     "metadata": {},
     "output_type": "execute_result"
    }
   ],
   "source": [
    "Probability2(sixd)"
   ]
  },
  {
   "cell_type": "code",
   "execution_count": 110,
   "id": "6b2a1ff7",
   "metadata": {},
   "outputs": [
    {
     "data": {
      "text/plain": [
       "'6004799503160661/36028797018963968'"
      ]
     },
     "execution_count": 110,
     "metadata": {},
     "output_type": "execute_result"
    }
   ],
   "source": [
    "str(Fraction(1/6))"
   ]
  },
  {
   "cell_type": "code",
   "execution_count": null,
   "id": "8de19b15",
   "metadata": {},
   "outputs": [],
   "source": []
  }
 ],
 "metadata": {
  "kernelspec": {
   "display_name": "Python 3",
   "language": "python",
   "name": "python3"
  },
  "language_info": {
   "codemirror_mode": {
    "name": "ipython",
    "version": 3
   },
   "file_extension": ".py",
   "mimetype": "text/x-python",
   "name": "python",
   "nbconvert_exporter": "python",
   "pygments_lexer": "ipython3",
   "version": "3.8.5"
  }
 },
 "nbformat": 4,
 "nbformat_minor": 5
}
