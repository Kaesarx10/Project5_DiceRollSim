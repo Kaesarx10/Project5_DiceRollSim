{
 "cells": [
  {
   "cell_type": "code",
   "execution_count": 1,
   "id": "211bba3a",
   "metadata": {},
   "outputs": [],
   "source": [
    "import secrets\n",
    "import random\n",
    "from fractions import Fraction\n",
    "from collections import Counter"
   ]
  },
  {
   "cell_type": "code",
   "execution_count": 2,
   "id": "74449d99",
   "metadata": {},
   "outputs": [],
   "source": [
    "from matplotlib import pyplot as plt"
   ]
  },
  {
   "cell_type": "code",
   "execution_count": 3,
   "id": "499ddca8",
   "metadata": {},
   "outputs": [],
   "source": [
    "import pandas as pd"
   ]
  },
  {
   "cell_type": "markdown",
   "id": "2b9f65f7",
   "metadata": {},
   "source": [
    "Various probability objects created; 6s Dice, Coin, 52c Deck"
   ]
  },
  {
   "cell_type": "code",
   "execution_count": 4,
   "id": "2c2b1bb6",
   "metadata": {},
   "outputs": [],
   "source": [
    "sixd = [*range(1,7)]\n",
    "twoc = [*range(2)]"
   ]
  },
  {
   "cell_type": "code",
   "execution_count": 5,
   "id": "91b41ea9",
   "metadata": {},
   "outputs": [],
   "source": [
    "dshapes = ['spades','hearts','clovers','dimonds']\n",
    "dvalues = [*range(2,11)]\n",
    "dothers = ['Jack', 'Queen', 'King', 'Ace']\n",
    "deck = []\n",
    "for i in dshapes:\n",
    "    for e in dvalues:\n",
    "        deck.append(str(e)+i)\n",
    "    for a in dothers:\n",
    "        deck.append(a+i)\n",
    "        #what's this algo called?"
   ]
  },
  {
   "cell_type": "markdown",
   "id": "4afa7293",
   "metadata": {},
   "source": [
    "Working with 6 sided die"
   ]
  },
  {
   "cell_type": "code",
   "execution_count": 6,
   "id": "e90f41f0",
   "metadata": {},
   "outputs": [],
   "source": [
    "Roll_list = []"
   ]
  },
  {
   "cell_type": "code",
   "execution_count": 7,
   "id": "0821da75",
   "metadata": {},
   "outputs": [],
   "source": [
    "def sRoll_dice(Dice = list) -> int:\n",
    "    r = secrets.choice(Dice)\n",
    "    Roll_list.append(r)\n",
    "    Roll_list.sort()\n",
    "    return r"
   ]
  },
  {
   "cell_type": "code",
   "execution_count": 8,
   "id": "b41cfc1f",
   "metadata": {},
   "outputs": [],
   "source": [
    "for i in range(1001):\n",
    "    sRoll_dice(sixd)"
   ]
  },
  {
   "cell_type": "code",
   "execution_count": 9,
   "id": "c73343ff",
   "metadata": {},
   "outputs": [],
   "source": [
    "def Probability(game):\n",
    "    l = len(game)\n",
    "    p = f'1/{l}'\n",
    "    return p"
   ]
  },
  {
   "cell_type": "code",
   "execution_count": 10,
   "id": "1289bebf",
   "metadata": {},
   "outputs": [
    {
     "data": {
      "text/plain": [
       "'1/6'"
      ]
     },
     "execution_count": 10,
     "metadata": {},
     "output_type": "execute_result"
    }
   ],
   "source": [
    "Probability(sixd)"
   ]
  },
  {
   "cell_type": "code",
   "execution_count": 11,
   "id": "c9bed1b9",
   "metadata": {},
   "outputs": [],
   "source": [
    "def Probability2(Dice):\n",
    "    p = 1/len(Dice)\n",
    "    return p*100"
   ]
  },
  {
   "cell_type": "code",
   "execution_count": 12,
   "id": "3459627d",
   "metadata": {},
   "outputs": [
    {
     "data": {
      "text/plain": [
       "16.666666666666664"
      ]
     },
     "execution_count": 12,
     "metadata": {},
     "output_type": "execute_result"
    }
   ],
   "source": [
    "Probability2(sixd)"
   ]
  },
  {
   "cell_type": "code",
   "execution_count": 13,
   "id": "2507d0a4",
   "metadata": {},
   "outputs": [
    {
     "data": {
      "text/plain": [
       "'6004799503160661/36028797018963968'"
      ]
     },
     "execution_count": 13,
     "metadata": {},
     "output_type": "execute_result"
    }
   ],
   "source": [
    "str(Fraction(1/6))"
   ]
  },
  {
   "cell_type": "code",
   "execution_count": 14,
   "id": "8f2643db",
   "metadata": {},
   "outputs": [
    {
     "data": {
      "text/plain": [
       "{1, 2, 3, 4, 5, 6}"
      ]
     },
     "execution_count": 14,
     "metadata": {},
     "output_type": "execute_result"
    }
   ],
   "source": [
    "set(Roll_list)"
   ]
  },
  {
   "cell_type": "code",
   "execution_count": 15,
   "id": "af1c320c",
   "metadata": {},
   "outputs": [
    {
     "data": {
      "text/plain": [
       "{1: 164, 2: 169, 3: 167, 4: 162, 5: 172, 6: 167}"
      ]
     },
     "execution_count": 15,
     "metadata": {},
     "output_type": "execute_result"
    }
   ],
   "source": [
    "c = Counter(Roll_list)\n",
    "c = dict(c)\n",
    "c"
   ]
  },
  {
   "cell_type": "code",
   "execution_count": 16,
   "id": "807e3059",
   "metadata": {},
   "outputs": [
    {
     "data": {
      "text/plain": [
       "<BarContainer object of 6 artists>"
      ]
     },
     "execution_count": 16,
     "metadata": {},
     "output_type": "execute_result"
    },
    {
     "data": {
      "image/png": "[encoded data removed]",
      "text/plain": [
       "<Figure size 432x288 with 1 Axes>"
      ]
     },
     "metadata": {
      "needs_background": "light"
     },
     "output_type": "display_data"
    }
   ],
   "source": [
    "plt.bar(c.keys(), c.values())"
   ]
  },
  {
   "cell_type": "code",
   "execution_count": 17,
   "id": "3ff62451",
   "metadata": {},
   "outputs": [
    {
     "data": {
      "text/plain": [
       "<AxesSubplot:>"
      ]
     },
     "execution_count": 17,
     "metadata": {},
     "output_type": "execute_result"
    },
    {
     "data": {
      "image/png": "[encoded data removed]",
      "text/plain": [
       "<Figure size 432x288 with 1 Axes>"
      ]
     },
     "metadata": {
      "needs_background": "light"
     },
     "output_type": "display_data"
    }
   ],
   "source": [
    "pd.DataFrame(c, index=[c.keys()]).plot(kind='bar')"
   ]
  },
  {
   "cell_type": "code",
   "execution_count": 65,
   "id": "0f6f9130",
   "metadata": {},
   "outputs": [],
   "source": [
    "#Roll_list"
   ]
  },
  {
   "cell_type": "code",
   "execution_count": 22,
   "id": "3aa8ebc3",
   "metadata": {},
   "outputs": [],
   "source": [
    "#plt.bar(d.keys(), d.values())"
   ]
  },
  {
   "cell_type": "markdown",
   "id": "f1d8e30e",
   "metadata": {},
   "source": [
    "Working with Coin toss"
   ]
  },
  {
   "cell_type": "code",
   "execution_count": 18,
   "id": "4eddec27",
   "metadata": {},
   "outputs": [],
   "source": [
    "coin_toss = []"
   ]
  },
  {
   "cell_type": "code",
   "execution_count": 19,
   "id": "d1611b6b",
   "metadata": {},
   "outputs": [],
   "source": [
    "def FlipCoin(Coin):\n",
    "    ct = secrets.choice(Coin)\n",
    "    coin_toss.append(ct)\n",
    "    #coin_toss.sort()\n",
    "    return ct"
   ]
  },
  {
   "cell_type": "code",
   "execution_count": 20,
   "id": "592f4d8f",
   "metadata": {},
   "outputs": [
    {
     "data": {
      "text/plain": [
       "1"
      ]
     },
     "execution_count": 20,
     "metadata": {},
     "output_type": "execute_result"
    }
   ],
   "source": [
    "secrets.choice(twoc)"
   ]
  },
  {
   "cell_type": "code",
   "execution_count": 21,
   "id": "8e63ae39",
   "metadata": {},
   "outputs": [],
   "source": [
    "for i in range(1001):\n",
    "    FlipCoin(twoc)"
   ]
  },
  {
   "cell_type": "code",
   "execution_count": 23,
   "id": "d274cbea",
   "metadata": {},
   "outputs": [],
   "source": [
    "#coin_toss"
   ]
  },
  {
   "cell_type": "code",
   "execution_count": 29,
   "id": "b8ce527c",
   "metadata": {},
   "outputs": [
    {
     "data": {
      "text/plain": [
       "{1: 506, 0: 495}"
      ]
     },
     "execution_count": 29,
     "metadata": {},
     "output_type": "execute_result"
    }
   ],
   "source": [
    "ot = Counter(coin_toss)\n",
    "ot = dict(ot)\n",
    "ot"
   ]
  },
  {
   "cell_type": "code",
   "execution_count": 30,
   "id": "156cfcdf",
   "metadata": {},
   "outputs": [
    {
     "data": {
      "text/plain": [
       "<BarContainer object of 2 artists>"
      ]
     },
     "execution_count": 30,
     "metadata": {},
     "output_type": "execute_result"
    },
    {
     "data": {
      "image/png": "[encoded data removed]",
      "text/plain": [
       "<Figure size 432x288 with 1 Axes>"
      ]
     },
     "metadata": {
      "needs_background": "light"
     },
     "output_type": "display_data"
    }
   ],
   "source": [
    "plt.bar(ot.keys(), ot.values())"
   ]
  },
  {
   "cell_type": "markdown",
   "id": "837a8e41",
   "metadata": {},
   "source": [
    "Working with 52 card deck"
   ]
  },
  {
   "cell_type": "code",
   "execution_count": 31,
   "id": "93f82731",
   "metadata": {},
   "outputs": [
    {
     "data": {
      "text/plain": [
       "52"
      ]
     },
     "execution_count": 31,
     "metadata": {},
     "output_type": "execute_result"
    }
   ],
   "source": [
    "len(deck)"
   ]
  },
  {
   "cell_type": "code",
   "execution_count": 32,
   "id": "1c845f94",
   "metadata": {},
   "outputs": [],
   "source": [
    "working_deck= deck"
   ]
  },
  {
   "cell_type": "code",
   "execution_count": 33,
   "id": "be5d6ffc",
   "metadata": {},
   "outputs": [],
   "source": [
    "def Pick_card(deck)-> str:\n",
    "    pc = secrets.choice(deck)\n",
    "    deck.remove(pc)\n",
    "    return pc"
   ]
  },
  {
   "cell_type": "code",
   "execution_count": 34,
   "id": "4f804bfa",
   "metadata": {},
   "outputs": [
    {
     "data": {
      "text/plain": [
       "'Kinghearts'"
      ]
     },
     "execution_count": 34,
     "metadata": {},
     "output_type": "execute_result"
    }
   ],
   "source": [
    "Pick_card(working_deck)"
   ]
  },
  {
   "cell_type": "code",
   "execution_count": 35,
   "id": "181082bf",
   "metadata": {},
   "outputs": [
    {
     "data": {
      "text/plain": [
       "51"
      ]
     },
     "execution_count": 35,
     "metadata": {},
     "output_type": "execute_result"
    }
   ],
   "source": [
    "len(working_deck)"
   ]
  },
  {
   "cell_type": "code",
   "execution_count": 40,
   "id": "41cc34a4",
   "metadata": {},
   "outputs": [],
   "source": [
    "#probability of getting \n",
    "def Deck_prob(Deck = list, draws = int) -> float:\n",
    "    dp = draws/len(Deck) *100\n",
    "    return dp"
   ]
  },
  {
   "cell_type": "code",
   "execution_count": 42,
   "id": "f19ce6ae",
   "metadata": {},
   "outputs": [
    {
     "data": {
      "text/plain": [
       "3.9215686274509802"
      ]
     },
     "execution_count": 42,
     "metadata": {},
     "output_type": "execute_result"
    }
   ],
   "source": [
    "Deck_prob(working_deck, 2)"
   ]
  },
  {
   "cell_type": "code",
   "execution_count": null,
   "id": "bed10c00",
   "metadata": {},
   "outputs": [],
   "source": []
  }
 ],
 "metadata": {
  "kernelspec": {
   "display_name": "Python 3",
   "language": "python",
   "name": "python3"
  },
  "language_info": {
   "codemirror_mode": {
    "name": "ipython",
    "version": 3
   },
   "file_extension": ".py",
   "mimetype": "text/x-python",
   "name": "python",
   "nbconvert_exporter": "python",
   "pygments_lexer": "ipython3",
   "version": "3.8.5"
  }
 },
 "nbformat": 4,
 "nbformat_minor": 5
}
