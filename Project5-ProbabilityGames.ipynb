{
 "cells": [
  {
   "cell_type": "code",
   "execution_count": 1,
   "id": "fdcebb11",
   "metadata": {},
   "outputs": [],
   "source": [
    "import secrets\n",
    "import random\n",
    "from fractions import Fraction\n",
    "from collections import Counter"
   ]
  },
  {
   "cell_type": "code",
   "execution_count": 2,
   "id": "e829d74f",
   "metadata": {},
   "outputs": [],
   "source": [
    "from matplotlib import pyplot as plt"
   ]
  },
  {
   "cell_type": "code",
   "execution_count": 3,
   "id": "8938a2f3",
   "metadata": {},
   "outputs": [],
   "source": [
    "import pandas as pd"
   ]
  },
  {
   "cell_type": "code",
   "execution_count": 4,
   "id": "04a56be8",
   "metadata": {},
   "outputs": [],
   "source": [
    "sixd = [*range(1,7)]\n",
    "twod = [*range(2)]"
   ]
  },
  {
   "cell_type": "code",
   "execution_count": 5,
   "id": "68003263",
   "metadata": {},
   "outputs": [],
   "source": [
    "Roll_list = []"
   ]
  },
  {
   "cell_type": "code",
   "execution_count": 6,
   "id": "f3bd5d99",
   "metadata": {},
   "outputs": [
    {
     "data": {
      "text/plain": [
       "[1, 2, 3, 4, 5, 6]"
      ]
     },
     "execution_count": 6,
     "metadata": {},
     "output_type": "execute_result"
    }
   ],
   "source": [
    "sixd"
   ]
  },
  {
   "cell_type": "code",
   "execution_count": 7,
   "id": "98415e9a",
   "metadata": {},
   "outputs": [
    {
     "data": {
      "text/plain": [
       "4"
      ]
     },
     "execution_count": 7,
     "metadata": {},
     "output_type": "execute_result"
    }
   ],
   "source": [
    "secrets.choice(sixd)"
   ]
  },
  {
   "cell_type": "code",
   "execution_count": 8,
   "id": "cbb43c5e",
   "metadata": {},
   "outputs": [],
   "source": [
    "def sRoll_dice(Dice = list) -> int:\n",
    "    r = secrets.choice(Dice)\n",
    "    Roll_list.append(r)\n",
    "    return r"
   ]
  },
  {
   "cell_type": "code",
   "execution_count": 9,
   "id": "9786df4e",
   "metadata": {},
   "outputs": [
    {
     "data": {
      "text/plain": [
       "3"
      ]
     },
     "execution_count": 9,
     "metadata": {},
     "output_type": "execute_result"
    }
   ],
   "source": [
    "sRoll_dice(sixd)"
   ]
  },
  {
   "cell_type": "code",
   "execution_count": 10,
   "id": "67c33d71",
   "metadata": {},
   "outputs": [],
   "source": [
    "for i in range(101):\n",
    "    sRoll_dice(sixd)"
   ]
  },
  {
   "cell_type": "code",
   "execution_count": 11,
   "id": "0c08eadc",
   "metadata": {},
   "outputs": [
    {
     "data": {
      "text/plain": [
       "[1,\n",
       " 1,\n",
       " 1,\n",
       " 1,\n",
       " 1,\n",
       " 1,\n",
       " 1,\n",
       " 1,\n",
       " 1,\n",
       " 1,\n",
       " 1,\n",
       " 1,\n",
       " 1,\n",
       " 1,\n",
       " 1,\n",
       " 2,\n",
       " 2,\n",
       " 2,\n",
       " 2,\n",
       " 2,\n",
       " 2,\n",
       " 2,\n",
       " 2,\n",
       " 2,\n",
       " 2,\n",
       " 2,\n",
       " 2,\n",
       " 2,\n",
       " 2,\n",
       " 2,\n",
       " 2,\n",
       " 2,\n",
       " 2,\n",
       " 3,\n",
       " 3,\n",
       " 3,\n",
       " 3,\n",
       " 3,\n",
       " 3,\n",
       " 3,\n",
       " 3,\n",
       " 3,\n",
       " 3,\n",
       " 3,\n",
       " 3,\n",
       " 3,\n",
       " 3,\n",
       " 3,\n",
       " 3,\n",
       " 3,\n",
       " 3,\n",
       " 3,\n",
       " 3,\n",
       " 4,\n",
       " 4,\n",
       " 4,\n",
       " 4,\n",
       " 4,\n",
       " 4,\n",
       " 4,\n",
       " 4,\n",
       " 4,\n",
       " 4,\n",
       " 4,\n",
       " 4,\n",
       " 4,\n",
       " 4,\n",
       " 5,\n",
       " 5,\n",
       " 5,\n",
       " 5,\n",
       " 5,\n",
       " 5,\n",
       " 5,\n",
       " 5,\n",
       " 5,\n",
       " 5,\n",
       " 5,\n",
       " 5,\n",
       " 5,\n",
       " 5,\n",
       " 5,\n",
       " 5,\n",
       " 5,\n",
       " 6,\n",
       " 6,\n",
       " 6,\n",
       " 6,\n",
       " 6,\n",
       " 6,\n",
       " 6,\n",
       " 6,\n",
       " 6,\n",
       " 6,\n",
       " 6,\n",
       " 6,\n",
       " 6,\n",
       " 6,\n",
       " 6,\n",
       " 6,\n",
       " 6,\n",
       " 6]"
      ]
     },
     "execution_count": 11,
     "metadata": {},
     "output_type": "execute_result"
    }
   ],
   "source": [
    "Roll_list.sort()\n",
    "Roll_list"
   ]
  },
  {
   "cell_type": "code",
   "execution_count": 12,
   "id": "65aa8c34",
   "metadata": {},
   "outputs": [],
   "source": [
    "def Probability(Dice):\n",
    "    l = len(Dice)\n",
    "    p = f'1/{l}'\n",
    "    return p"
   ]
  },
  {
   "cell_type": "code",
   "execution_count": 13,
   "id": "2ce57759",
   "metadata": {},
   "outputs": [
    {
     "data": {
      "text/plain": [
       "'1/6'"
      ]
     },
     "execution_count": 13,
     "metadata": {},
     "output_type": "execute_result"
    }
   ],
   "source": [
    "Probability(sixd)"
   ]
  },
  {
   "cell_type": "code",
   "execution_count": 14,
   "id": "9c9e7555",
   "metadata": {},
   "outputs": [],
   "source": [
    "def Probability2(Dice):\n",
    "    p = 1/len(Dice)\n",
    "    return p*100"
   ]
  },
  {
   "cell_type": "code",
   "execution_count": 15,
   "id": "93049abe",
   "metadata": {},
   "outputs": [
    {
     "data": {
      "text/plain": [
       "16.666666666666664"
      ]
     },
     "execution_count": 15,
     "metadata": {},
     "output_type": "execute_result"
    }
   ],
   "source": [
    "Probability2(sixd)"
   ]
  },
  {
   "cell_type": "code",
   "execution_count": 16,
   "id": "ef8c5cb5",
   "metadata": {},
   "outputs": [
    {
     "data": {
      "text/plain": [
       "'6004799503160661/36028797018963968'"
      ]
     },
     "execution_count": 16,
     "metadata": {},
     "output_type": "execute_result"
    }
   ],
   "source": [
    "str(Fraction(1/6))"
   ]
  },
  {
   "cell_type": "code",
   "execution_count": 17,
   "id": "f4eb4544",
   "metadata": {},
   "outputs": [
    {
     "data": {
      "text/plain": [
       "{1, 2, 3, 4, 5, 6}"
      ]
     },
     "execution_count": 17,
     "metadata": {},
     "output_type": "execute_result"
    }
   ],
   "source": [
    "set(Roll_list)"
   ]
  },
  {
   "cell_type": "code",
   "execution_count": 18,
   "id": "1eb73a50",
   "metadata": {},
   "outputs": [
    {
     "data": {
      "text/plain": [
       "{1: 15, 2: 18, 3: 20, 4: 14, 5: 17, 6: 18}"
      ]
     },
     "execution_count": 18,
     "metadata": {},
     "output_type": "execute_result"
    }
   ],
   "source": [
    "c = Counter(Roll_list)\n",
    "c = dict(c)\n",
    "c"
   ]
  },
  {
   "cell_type": "code",
   "execution_count": 19,
   "id": "a7efd36a",
   "metadata": {},
   "outputs": [
    {
     "data": {
      "text/plain": [
       "<BarContainer object of 6 artists>"
      ]
     },
     "execution_count": 19,
     "metadata": {},
     "output_type": "execute_result"
    },
    {
     "data": {
      "image/png": "[encoded data removed]",
      "text/plain": [
       "<Figure size 432x288 with 1 Axes>"
      ]
     },
     "metadata": {
      "needs_background": "light"
     },
     "output_type": "display_data"
    }
   ],
   "source": [
    "plt.bar(c.keys(), c.values())"
   ]
  },
  {
   "cell_type": "code",
   "execution_count": 20,
   "id": "7c28dc28",
   "metadata": {},
   "outputs": [
    {
     "data": {
      "text/plain": [
       "<AxesSubplot:>"
      ]
     },
     "execution_count": 20,
     "metadata": {},
     "output_type": "execute_result"
    },
    {
     "data": {
      "image/png": "[encoded data removed]",
      "text/plain": [
       "<Figure size 432x288 with 1 Axes>"
      ]
     },
     "metadata": {
      "needs_background": "light"
     },
     "output_type": "display_data"
    }
   ],
   "source": [
    "pd.DataFrame(c, index=[c.keys()]).plot(kind='bar')"
   ]
  },
  {
   "cell_type": "code",
   "execution_count": 21,
   "id": "991f9dc6",
   "metadata": {},
   "outputs": [],
   "source": [
    "for i in range(101):\n",
    "    sRoll_dice(twod)"
   ]
  },
  {
   "cell_type": "code",
   "execution_count": 22,
   "id": "ea451e05",
   "metadata": {},
   "outputs": [
    {
     "data": {
      "text/plain": [
       "[1,\n",
       " 1,\n",
       " 1,\n",
       " 1,\n",
       " 1,\n",
       " 1,\n",
       " 1,\n",
       " 1,\n",
       " 1,\n",
       " 1,\n",
       " 1,\n",
       " 1,\n",
       " 1,\n",
       " 1,\n",
       " 1,\n",
       " 2,\n",
       " 2,\n",
       " 2,\n",
       " 2,\n",
       " 2,\n",
       " 2,\n",
       " 2,\n",
       " 2,\n",
       " 2,\n",
       " 2,\n",
       " 2,\n",
       " 2,\n",
       " 2,\n",
       " 2,\n",
       " 2,\n",
       " 2,\n",
       " 2,\n",
       " 2,\n",
       " 3,\n",
       " 3,\n",
       " 3,\n",
       " 3,\n",
       " 3,\n",
       " 3,\n",
       " 3,\n",
       " 3,\n",
       " 3,\n",
       " 3,\n",
       " 3,\n",
       " 3,\n",
       " 3,\n",
       " 3,\n",
       " 3,\n",
       " 3,\n",
       " 3,\n",
       " 3,\n",
       " 3,\n",
       " 3,\n",
       " 4,\n",
       " 4,\n",
       " 4,\n",
       " 4,\n",
       " 4,\n",
       " 4,\n",
       " 4,\n",
       " 4,\n",
       " 4,\n",
       " 4,\n",
       " 4,\n",
       " 4,\n",
       " 4,\n",
       " 4,\n",
       " 5,\n",
       " 5,\n",
       " 5,\n",
       " 5,\n",
       " 5,\n",
       " 5,\n",
       " 5,\n",
       " 5,\n",
       " 5,\n",
       " 5,\n",
       " 5,\n",
       " 5,\n",
       " 5,\n",
       " 5,\n",
       " 5,\n",
       " 5,\n",
       " 5,\n",
       " 6,\n",
       " 6,\n",
       " 6,\n",
       " 6,\n",
       " 6,\n",
       " 6,\n",
       " 6,\n",
       " 6,\n",
       " 6,\n",
       " 6,\n",
       " 6,\n",
       " 6,\n",
       " 6,\n",
       " 6,\n",
       " 6,\n",
       " 6,\n",
       " 6,\n",
       " 6,\n",
       " 0,\n",
       " 1,\n",
       " 1,\n",
       " 1,\n",
       " 0,\n",
       " 0,\n",
       " 0,\n",
       " 0,\n",
       " 0,\n",
       " 1,\n",
       " 1,\n",
       " 0,\n",
       " 1,\n",
       " 1,\n",
       " 1,\n",
       " 0,\n",
       " 1,\n",
       " 0,\n",
       " 1,\n",
       " 0,\n",
       " 0,\n",
       " 0,\n",
       " 1,\n",
       " 0,\n",
       " 1,\n",
       " 0,\n",
       " 0,\n",
       " 0,\n",
       " 1,\n",
       " 0,\n",
       " 0,\n",
       " 0,\n",
       " 1,\n",
       " 1,\n",
       " 1,\n",
       " 1,\n",
       " 1,\n",
       " 1,\n",
       " 1,\n",
       " 0,\n",
       " 0,\n",
       " 1,\n",
       " 0,\n",
       " 0,\n",
       " 0,\n",
       " 0,\n",
       " 0,\n",
       " 0,\n",
       " 1,\n",
       " 1,\n",
       " 1,\n",
       " 1,\n",
       " 0,\n",
       " 0,\n",
       " 0,\n",
       " 1,\n",
       " 0,\n",
       " 1,\n",
       " 0,\n",
       " 0,\n",
       " 0,\n",
       " 1,\n",
       " 0,\n",
       " 0,\n",
       " 0,\n",
       " 1,\n",
       " 0,\n",
       " 1,\n",
       " 1,\n",
       " 1,\n",
       " 1,\n",
       " 1,\n",
       " 0,\n",
       " 0,\n",
       " 1,\n",
       " 0,\n",
       " 0,\n",
       " 0,\n",
       " 0,\n",
       " 1,\n",
       " 0,\n",
       " 1,\n",
       " 0,\n",
       " 0,\n",
       " 0,\n",
       " 1,\n",
       " 0,\n",
       " 0,\n",
       " 1,\n",
       " 0,\n",
       " 1,\n",
       " 1,\n",
       " 1,\n",
       " 0,\n",
       " 0,\n",
       " 0,\n",
       " 0,\n",
       " 0,\n",
       " 1,\n",
       " 1,\n",
       " 1]"
      ]
     },
     "execution_count": 22,
     "metadata": {},
     "output_type": "execute_result"
    }
   ],
   "source": [
    "Roll_list"
   ]
  },
  {
   "cell_type": "code",
   "execution_count": 23,
   "id": "41d5cb6a",
   "metadata": {},
   "outputs": [],
   "source": [
    "Roll_list.sort()"
   ]
  },
  {
   "cell_type": "code",
   "execution_count": 24,
   "id": "0ac1a670",
   "metadata": {},
   "outputs": [
    {
     "data": {
      "text/plain": [
       "{0: 56, 1: 60, 2: 18, 3: 20, 4: 14, 5: 17, 6: 18}"
      ]
     },
     "execution_count": 24,
     "metadata": {},
     "output_type": "execute_result"
    }
   ],
   "source": [
    "d = Counter(Roll_list)\n",
    "d = dict(d)\n",
    "d"
   ]
  },
  {
   "cell_type": "code",
   "execution_count": 25,
   "id": "aede71af",
   "metadata": {},
   "outputs": [
    {
     "data": {
      "text/plain": [
       "<BarContainer object of 7 artists>"
      ]
     },
     "execution_count": 25,
     "metadata": {},
     "output_type": "execute_result"
    },
    {
     "data": {
      "image/png": "[encoded data removed]",
      "text/plain": [
       "<Figure size 432x288 with 1 Axes>"
      ]
     },
     "metadata": {
      "needs_background": "light"
     },
     "output_type": "display_data"
    }
   ],
   "source": [
    "plt.bar(d.keys(), d.values())"
   ]
  },
  {
   "cell_type": "code",
   "execution_count": 48,
   "id": "5f68792c",
   "metadata": {},
   "outputs": [],
   "source": [
    "dshapes = ['spades','hearts','clovers','dimonds']\n",
    "dvalues = [*range(2,11)]\n",
    "dothers = ['Jack', 'Queen', 'King', 'Ace']\n",
    "deck = []"
   ]
  },
  {
   "cell_type": "code",
   "execution_count": 49,
   "id": "26a8d42e",
   "metadata": {},
   "outputs": [],
   "source": [
    "#for i in dvalues:\n",
    "#    deck.append(str(i))"
   ]
  },
  {
   "cell_type": "code",
   "execution_count": 50,
   "id": "aa57b566",
   "metadata": {},
   "outputs": [
    {
     "data": {
      "text/plain": [
       "[]"
      ]
     },
     "execution_count": 50,
     "metadata": {},
     "output_type": "execute_result"
    }
   ],
   "source": [
    "deck"
   ]
  },
  {
   "cell_type": "code",
   "execution_count": 51,
   "id": "0a6613e9",
   "metadata": {},
   "outputs": [],
   "source": [
    "for i in dshapes:\n",
    "    for e in dvalues:\n",
    "        deck.append(str(e)+i)\n",
    "    for a in dothers:\n",
    "        deck.append(a+i)"
   ]
  },
  {
   "cell_type": "code",
   "execution_count": 52,
   "id": "bf3a7f11",
   "metadata": {},
   "outputs": [
    {
     "data": {
      "text/plain": [
       "['2spades',\n",
       " '3spades',\n",
       " '4spades',\n",
       " '5spades',\n",
       " '6spades',\n",
       " '7spades',\n",
       " '8spades',\n",
       " '9spades',\n",
       " '10spades',\n",
       " 'Jackspades',\n",
       " 'Queenspades',\n",
       " 'Kingspades',\n",
       " 'Acespades',\n",
       " '2hearts',\n",
       " '3hearts',\n",
       " '4hearts',\n",
       " '5hearts',\n",
       " '6hearts',\n",
       " '7hearts',\n",
       " '8hearts',\n",
       " '9hearts',\n",
       " '10hearts',\n",
       " 'Jackhearts',\n",
       " 'Queenhearts',\n",
       " 'Kinghearts',\n",
       " 'Acehearts',\n",
       " '2clovers',\n",
       " '3clovers',\n",
       " '4clovers',\n",
       " '5clovers',\n",
       " '6clovers',\n",
       " '7clovers',\n",
       " '8clovers',\n",
       " '9clovers',\n",
       " '10clovers',\n",
       " 'Jackclovers',\n",
       " 'Queenclovers',\n",
       " 'Kingclovers',\n",
       " 'Aceclovers',\n",
       " '2dimonds',\n",
       " '3dimonds',\n",
       " '4dimonds',\n",
       " '5dimonds',\n",
       " '6dimonds',\n",
       " '7dimonds',\n",
       " '8dimonds',\n",
       " '9dimonds',\n",
       " '10dimonds',\n",
       " 'Jackdimonds',\n",
       " 'Queendimonds',\n",
       " 'Kingdimonds',\n",
       " 'Acedimonds']"
      ]
     },
     "execution_count": 52,
     "metadata": {},
     "output_type": "execute_result"
    }
   ],
   "source": [
    "deck"
   ]
  },
  {
   "cell_type": "code",
   "execution_count": 53,
   "id": "0b30c817",
   "metadata": {},
   "outputs": [
    {
     "data": {
      "text/plain": [
       "52"
      ]
     },
     "execution_count": 53,
     "metadata": {},
     "output_type": "execute_result"
    }
   ],
   "source": [
    "len(deck)"
   ]
  },
  {
   "cell_type": "code",
   "execution_count": 54,
   "id": "b027352d",
   "metadata": {},
   "outputs": [],
   "source": [
    "working_deck= deck"
   ]
  },
  {
   "cell_type": "code",
   "execution_count": 58,
   "id": "73068e28",
   "metadata": {},
   "outputs": [],
   "source": [
    "def Pick_card(deck)-> str:\n",
    "    pc = secrets.choice(deck)\n",
    "    \n",
    "    return pc"
   ]
  },
  {
   "cell_type": "code",
   "execution_count": 59,
   "id": "59818476",
   "metadata": {},
   "outputs": [
    {
     "data": {
      "text/plain": [
       "'6spades'"
      ]
     },
     "execution_count": 59,
     "metadata": {},
     "output_type": "execute_result"
    }
   ],
   "source": [
    "Pick_card(working_deck)"
   ]
  },
  {
   "cell_type": "code",
   "execution_count": null,
   "id": "3174a157",
   "metadata": {},
   "outputs": [],
   "source": []
  }
 ],
 "metadata": {
  "kernelspec": {
   "display_name": "Python 3",
   "language": "python",
   "name": "python3"
  },
  "language_info": {
   "codemirror_mode": {
    "name": "ipython",
    "version": 3
   },
   "file_extension": ".py",
   "mimetype": "text/x-python",
   "name": "python",
   "nbconvert_exporter": "python",
   "pygments_lexer": "ipython3",
   "version": "3.8.5"
  }
 },
 "nbformat": 4,
 "nbformat_minor": 5
}
